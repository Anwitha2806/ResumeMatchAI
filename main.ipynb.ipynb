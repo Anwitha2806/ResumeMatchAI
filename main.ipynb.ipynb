{
 "cells": [
  {
   "cell_type": "code",
   "execution_count": 1,
   "id": "d0c64772-5594-4f77-9e0a-280e320131a5",
   "metadata": {},
   "outputs": [
    {
     "name": "stdout",
     "output_type": "stream",
     "text": [
      "Requirement already satisfied: langchain in c:\\users\\anwit\\anaconda3\\lib\\site-packages (0.3.0)\n",
      "Requirement already satisfied: langchain-groq in c:\\users\\anwit\\anaconda3\\lib\\site-packages (0.2.0)\n",
      "Requirement already satisfied: chromadb in c:\\users\\anwit\\anaconda3\\lib\\site-packages (0.5.3)\n",
      "Requirement already satisfied: pandas in c:\\users\\anwit\\anaconda3\\lib\\site-packages (2.1.4)\n",
      "Requirement already satisfied: sentence-transformers in c:\\users\\anwit\\anaconda3\\lib\\site-packages (3.1.1)\n",
      "Requirement already satisfied: pymupdf in c:\\users\\anwit\\anaconda3\\lib\\site-packages (1.24.10)\n",
      "Requirement already satisfied: PyYAML>=5.3 in c:\\users\\anwit\\anaconda3\\lib\\site-packages (from langchain) (6.0.1)\n",
      "Requirement already satisfied: SQLAlchemy<3,>=1.4 in c:\\users\\anwit\\anaconda3\\lib\\site-packages (from langchain) (2.0.25)\n",
      "Requirement already satisfied: aiohttp<4.0.0,>=3.8.3 in c:\\users\\anwit\\anaconda3\\lib\\site-packages (from langchain) (3.9.3)\n",
      "Requirement already satisfied: langchain-core<0.4.0,>=0.3.0 in c:\\users\\anwit\\anaconda3\\lib\\site-packages (from langchain) (0.3.6)\n",
      "Requirement already satisfied: langchain-text-splitters<0.4.0,>=0.3.0 in c:\\users\\anwit\\anaconda3\\lib\\site-packages (from langchain) (0.3.0)\n",
      "Requirement already satisfied: langsmith<0.2.0,>=0.1.17 in c:\\users\\anwit\\anaconda3\\lib\\site-packages (from langchain) (0.1.128)\n",
      "Requirement already satisfied: numpy<2,>=1 in c:\\users\\anwit\\anaconda3\\lib\\site-packages (from langchain) (1.26.4)\n",
      "Requirement already satisfied: pydantic<3.0.0,>=2.7.4 in c:\\users\\anwit\\anaconda3\\lib\\site-packages (from langchain) (2.9.2)\n",
      "Requirement already satisfied: requests<3,>=2 in c:\\users\\anwit\\anaconda3\\lib\\site-packages (from langchain) (2.31.0)\n",
      "Requirement already satisfied: tenacity!=8.4.0,<9.0.0,>=8.1.0 in c:\\users\\anwit\\anaconda3\\lib\\site-packages (from langchain) (8.5.0)\n",
      "Requirement already satisfied: groq<1,>=0.4.1 in c:\\users\\anwit\\anaconda3\\lib\\site-packages (from langchain-groq) (0.11.0)\n",
      "Requirement already satisfied: build>=1.0.3 in c:\\users\\anwit\\anaconda3\\lib\\site-packages (from chromadb) (1.2.2)\n",
      "Requirement already satisfied: chroma-hnswlib==0.7.3 in c:\\users\\anwit\\anaconda3\\lib\\site-packages (from chromadb) (0.7.3)\n",
      "Requirement already satisfied: fastapi>=0.95.2 in c:\\users\\anwit\\anaconda3\\lib\\site-packages (from chromadb) (0.114.2)\n",
      "Requirement already satisfied: uvicorn>=0.18.3 in c:\\users\\anwit\\anaconda3\\lib\\site-packages (from uvicorn[standard]>=0.18.3->chromadb) (0.30.6)\n",
      "Requirement already satisfied: posthog>=2.4.0 in c:\\users\\anwit\\anaconda3\\lib\\site-packages (from chromadb) (3.6.5)\n",
      "Requirement already satisfied: typing-extensions>=4.5.0 in c:\\users\\anwit\\anaconda3\\lib\\site-packages (from chromadb) (4.9.0)\n",
      "Requirement already satisfied: onnxruntime>=1.14.1 in c:\\users\\anwit\\anaconda3\\lib\\site-packages (from chromadb) (1.19.2)\n",
      "Requirement already satisfied: opentelemetry-api>=1.2.0 in c:\\users\\anwit\\anaconda3\\lib\\site-packages (from chromadb) (1.27.0)\n",
      "Requirement already satisfied: opentelemetry-exporter-otlp-proto-grpc>=1.2.0 in c:\\users\\anwit\\anaconda3\\lib\\site-packages (from chromadb) (1.27.0)\n",
      "Requirement already satisfied: opentelemetry-instrumentation-fastapi>=0.41b0 in c:\\users\\anwit\\anaconda3\\lib\\site-packages (from chromadb) (0.48b0)\n",
      "Requirement already satisfied: opentelemetry-sdk>=1.2.0 in c:\\users\\anwit\\anaconda3\\lib\\site-packages (from chromadb) (1.27.0)\n",
      "Requirement already satisfied: tokenizers>=0.13.2 in c:\\users\\anwit\\anaconda3\\lib\\site-packages (from chromadb) (0.20.0)\n",
      "Requirement already satisfied: pypika>=0.48.9 in c:\\users\\anwit\\anaconda3\\lib\\site-packages (from chromadb) (0.48.9)\n",
      "Requirement already satisfied: tqdm>=4.65.0 in c:\\users\\anwit\\anaconda3\\lib\\site-packages (from chromadb) (4.65.0)\n",
      "Requirement already satisfied: overrides>=7.3.1 in c:\\users\\anwit\\anaconda3\\lib\\site-packages (from chromadb) (7.4.0)\n",
      "Requirement already satisfied: importlib-resources in c:\\users\\anwit\\anaconda3\\lib\\site-packages (from chromadb) (6.4.5)\n",
      "Requirement already satisfied: grpcio>=1.58.0 in c:\\users\\anwit\\anaconda3\\lib\\site-packages (from chromadb) (1.66.1)\n",
      "Requirement already satisfied: bcrypt>=4.0.1 in c:\\users\\anwit\\anaconda3\\lib\\site-packages (from chromadb) (4.2.0)\n",
      "Requirement already satisfied: typer>=0.9.0 in c:\\users\\anwit\\anaconda3\\lib\\site-packages (from chromadb) (0.12.5)\n",
      "Requirement already satisfied: kubernetes>=28.1.0 in c:\\users\\anwit\\anaconda3\\lib\\site-packages (from chromadb) (30.1.0)\n",
      "Requirement already satisfied: mmh3>=4.0.1 in c:\\users\\anwit\\anaconda3\\lib\\site-packages (from chromadb) (4.1.0)\n",
      "Requirement already satisfied: orjson>=3.9.12 in c:\\users\\anwit\\anaconda3\\lib\\site-packages (from chromadb) (3.10.7)\n",
      "Requirement already satisfied: httpx>=0.27.0 in c:\\users\\anwit\\anaconda3\\lib\\site-packages (from chromadb) (0.27.2)\n",
      "Requirement already satisfied: python-dateutil>=2.8.2 in c:\\users\\anwit\\anaconda3\\lib\\site-packages (from pandas) (2.8.2)\n",
      "Requirement already satisfied: pytz>=2020.1 in c:\\users\\anwit\\anaconda3\\lib\\site-packages (from pandas) (2023.3.post1)\n",
      "Requirement already satisfied: tzdata>=2022.1 in c:\\users\\anwit\\anaconda3\\lib\\site-packages (from pandas) (2023.3)\n",
      "Requirement already satisfied: transformers<5.0.0,>=4.38.0 in c:\\users\\anwit\\anaconda3\\lib\\site-packages (from sentence-transformers) (4.45.0)\n",
      "Requirement already satisfied: torch>=1.11.0 in c:\\users\\anwit\\anaconda3\\lib\\site-packages (from sentence-transformers) (2.4.1)\n",
      "Requirement already satisfied: scikit-learn in c:\\users\\anwit\\anaconda3\\lib\\site-packages (from sentence-transformers) (1.2.2)\n",
      "Requirement already satisfied: scipy in c:\\users\\anwit\\anaconda3\\lib\\site-packages (from sentence-transformers) (1.11.4)\n",
      "Requirement already satisfied: huggingface-hub>=0.19.3 in c:\\users\\anwit\\anaconda3\\lib\\site-packages (from sentence-transformers) (0.24.7)\n",
      "Requirement already satisfied: Pillow in c:\\users\\anwit\\anaconda3\\lib\\site-packages (from sentence-transformers) (10.2.0)\n",
      "Requirement already satisfied: PyMuPDFb==1.24.10 in c:\\users\\anwit\\anaconda3\\lib\\site-packages (from pymupdf) (1.24.10)\n",
      "Requirement already satisfied: aiosignal>=1.1.2 in c:\\users\\anwit\\anaconda3\\lib\\site-packages (from aiohttp<4.0.0,>=3.8.3->langchain) (1.2.0)\n",
      "Requirement already satisfied: attrs>=17.3.0 in c:\\users\\anwit\\anaconda3\\lib\\site-packages (from aiohttp<4.0.0,>=3.8.3->langchain) (23.1.0)\n",
      "Requirement already satisfied: frozenlist>=1.1.1 in c:\\users\\anwit\\anaconda3\\lib\\site-packages (from aiohttp<4.0.0,>=3.8.3->langchain) (1.4.0)\n",
      "Requirement already satisfied: multidict<7.0,>=4.5 in c:\\users\\anwit\\anaconda3\\lib\\site-packages (from aiohttp<4.0.0,>=3.8.3->langchain) (6.0.4)\n",
      "Requirement already satisfied: yarl<2.0,>=1.0 in c:\\users\\anwit\\anaconda3\\lib\\site-packages (from aiohttp<4.0.0,>=3.8.3->langchain) (1.9.3)\n",
      "Requirement already satisfied: packaging>=19.1 in c:\\users\\anwit\\anaconda3\\lib\\site-packages (from build>=1.0.3->chromadb) (23.2)\n",
      "Requirement already satisfied: pyproject_hooks in c:\\users\\anwit\\anaconda3\\lib\\site-packages (from build>=1.0.3->chromadb) (1.1.0)\n",
      "Requirement already satisfied: colorama in c:\\users\\anwit\\anaconda3\\lib\\site-packages (from build>=1.0.3->chromadb) (0.4.6)\n",
      "Requirement already satisfied: starlette<0.39.0,>=0.37.2 in c:\\users\\anwit\\anaconda3\\lib\\site-packages (from fastapi>=0.95.2->chromadb) (0.38.5)\n",
      "Requirement already satisfied: anyio<5,>=3.5.0 in c:\\users\\anwit\\anaconda3\\lib\\site-packages (from groq<1,>=0.4.1->langchain-groq) (4.2.0)\n",
      "Requirement already satisfied: distro<2,>=1.7.0 in c:\\users\\anwit\\anaconda3\\lib\\site-packages (from groq<1,>=0.4.1->langchain-groq) (1.8.0)\n",
      "Requirement already satisfied: sniffio in c:\\users\\anwit\\anaconda3\\lib\\site-packages (from groq<1,>=0.4.1->langchain-groq) (1.3.0)\n",
      "Requirement already satisfied: certifi in c:\\users\\anwit\\anaconda3\\lib\\site-packages (from httpx>=0.27.0->chromadb) (2024.2.2)\n",
      "Requirement already satisfied: httpcore==1.* in c:\\users\\anwit\\anaconda3\\lib\\site-packages (from httpx>=0.27.0->chromadb) (1.0.5)\n",
      "Requirement already satisfied: idna in c:\\users\\anwit\\anaconda3\\lib\\site-packages (from httpx>=0.27.0->chromadb) (3.4)\n",
      "Requirement already satisfied: h11<0.15,>=0.13 in c:\\users\\anwit\\anaconda3\\lib\\site-packages (from httpcore==1.*->httpx>=0.27.0->chromadb) (0.14.0)\n",
      "Requirement already satisfied: filelock in c:\\users\\anwit\\anaconda3\\lib\\site-packages (from huggingface-hub>=0.19.3->sentence-transformers) (3.13.1)\n",
      "Requirement already satisfied: fsspec>=2023.5.0 in c:\\users\\anwit\\anaconda3\\lib\\site-packages (from huggingface-hub>=0.19.3->sentence-transformers) (2023.10.0)\n",
      "Requirement already satisfied: six>=1.9.0 in c:\\users\\anwit\\anaconda3\\lib\\site-packages (from kubernetes>=28.1.0->chromadb) (1.16.0)\n",
      "Requirement already satisfied: google-auth>=1.0.1 in c:\\users\\anwit\\anaconda3\\lib\\site-packages (from kubernetes>=28.1.0->chromadb) (2.34.0)\n",
      "Requirement already satisfied: websocket-client!=0.40.0,!=0.41.*,!=0.42.*,>=0.32.0 in c:\\users\\anwit\\anaconda3\\lib\\site-packages (from kubernetes>=28.1.0->chromadb) (0.58.0)\n",
      "Requirement already satisfied: requests-oauthlib in c:\\users\\anwit\\anaconda3\\lib\\site-packages (from kubernetes>=28.1.0->chromadb) (2.0.0)\n",
      "Requirement already satisfied: oauthlib>=3.2.2 in c:\\users\\anwit\\anaconda3\\lib\\site-packages (from kubernetes>=28.1.0->chromadb) (3.2.2)\n",
      "Requirement already satisfied: urllib3>=1.24.2 in c:\\users\\anwit\\anaconda3\\lib\\site-packages (from kubernetes>=28.1.0->chromadb) (2.0.7)\n",
      "Requirement already satisfied: jsonpatch<2.0,>=1.33 in c:\\users\\anwit\\anaconda3\\lib\\site-packages (from langchain-core<0.4.0,>=0.3.0->langchain) (1.33)\n",
      "Requirement already satisfied: coloredlogs in c:\\users\\anwit\\anaconda3\\lib\\site-packages (from onnxruntime>=1.14.1->chromadb) (15.0.1)\n",
      "Requirement already satisfied: flatbuffers in c:\\users\\anwit\\anaconda3\\lib\\site-packages (from onnxruntime>=1.14.1->chromadb) (24.3.25)\n",
      "Requirement already satisfied: protobuf in c:\\users\\anwit\\anaconda3\\lib\\site-packages (from onnxruntime>=1.14.1->chromadb) (4.25.5)\n",
      "Requirement already satisfied: sympy in c:\\users\\anwit\\anaconda3\\lib\\site-packages (from onnxruntime>=1.14.1->chromadb) (1.12)\n",
      "Requirement already satisfied: deprecated>=1.2.6 in c:\\users\\anwit\\anaconda3\\lib\\site-packages (from opentelemetry-api>=1.2.0->chromadb) (1.2.14)\n",
      "Requirement already satisfied: importlib-metadata<=8.4.0,>=6.0 in c:\\users\\anwit\\anaconda3\\lib\\site-packages (from opentelemetry-api>=1.2.0->chromadb) (7.0.1)\n",
      "Requirement already satisfied: googleapis-common-protos~=1.52 in c:\\users\\anwit\\anaconda3\\lib\\site-packages (from opentelemetry-exporter-otlp-proto-grpc>=1.2.0->chromadb) (1.65.0)\n",
      "Requirement already satisfied: opentelemetry-exporter-otlp-proto-common==1.27.0 in c:\\users\\anwit\\anaconda3\\lib\\site-packages (from opentelemetry-exporter-otlp-proto-grpc>=1.2.0->chromadb) (1.27.0)\n",
      "Requirement already satisfied: opentelemetry-proto==1.27.0 in c:\\users\\anwit\\anaconda3\\lib\\site-packages (from opentelemetry-exporter-otlp-proto-grpc>=1.2.0->chromadb) (1.27.0)\n",
      "Requirement already satisfied: opentelemetry-instrumentation-asgi==0.48b0 in c:\\users\\anwit\\anaconda3\\lib\\site-packages (from opentelemetry-instrumentation-fastapi>=0.41b0->chromadb) (0.48b0)\n",
      "Requirement already satisfied: opentelemetry-instrumentation==0.48b0 in c:\\users\\anwit\\anaconda3\\lib\\site-packages (from opentelemetry-instrumentation-fastapi>=0.41b0->chromadb) (0.48b0)\n",
      "Requirement already satisfied: opentelemetry-semantic-conventions==0.48b0 in c:\\users\\anwit\\anaconda3\\lib\\site-packages (from opentelemetry-instrumentation-fastapi>=0.41b0->chromadb) (0.48b0)\n",
      "Requirement already satisfied: opentelemetry-util-http==0.48b0 in c:\\users\\anwit\\anaconda3\\lib\\site-packages (from opentelemetry-instrumentation-fastapi>=0.41b0->chromadb) (0.48b0)\n",
      "Requirement already satisfied: setuptools>=16.0 in c:\\users\\anwit\\anaconda3\\lib\\site-packages (from opentelemetry-instrumentation==0.48b0->opentelemetry-instrumentation-fastapi>=0.41b0->chromadb) (68.2.2)\n",
      "Requirement already satisfied: wrapt<2.0.0,>=1.0.0 in c:\\users\\anwit\\anaconda3\\lib\\site-packages (from opentelemetry-instrumentation==0.48b0->opentelemetry-instrumentation-fastapi>=0.41b0->chromadb) (1.14.1)\n",
      "Requirement already satisfied: asgiref~=3.0 in c:\\users\\anwit\\anaconda3\\lib\\site-packages (from opentelemetry-instrumentation-asgi==0.48b0->opentelemetry-instrumentation-fastapi>=0.41b0->chromadb) (3.8.1)\n",
      "Requirement already satisfied: monotonic>=1.5 in c:\\users\\anwit\\anaconda3\\lib\\site-packages (from posthog>=2.4.0->chromadb) (1.6)\n",
      "Requirement already satisfied: backoff>=1.10.0 in c:\\users\\anwit\\anaconda3\\lib\\site-packages (from posthog>=2.4.0->chromadb) (2.2.1)\n",
      "Requirement already satisfied: annotated-types>=0.6.0 in c:\\users\\anwit\\anaconda3\\lib\\site-packages (from pydantic<3.0.0,>=2.7.4->langchain) (0.7.0)\n",
      "Requirement already satisfied: pydantic-core==2.23.4 in c:\\users\\anwit\\anaconda3\\lib\\site-packages (from pydantic<3.0.0,>=2.7.4->langchain) (2.23.4)\n",
      "Requirement already satisfied: charset-normalizer<4,>=2 in c:\\users\\anwit\\anaconda3\\lib\\site-packages (from requests<3,>=2->langchain) (3.3.2)\n",
      "Requirement already satisfied: greenlet!=0.4.17 in c:\\users\\anwit\\anaconda3\\lib\\site-packages (from SQLAlchemy<3,>=1.4->langchain) (3.0.1)\n",
      "Requirement already satisfied: networkx in c:\\users\\anwit\\anaconda3\\lib\\site-packages (from torch>=1.11.0->sentence-transformers) (3.1)\n",
      "Requirement already satisfied: jinja2 in c:\\users\\anwit\\anaconda3\\lib\\site-packages (from torch>=1.11.0->sentence-transformers) (3.1.3)\n",
      "Requirement already satisfied: regex!=2019.12.17 in c:\\users\\anwit\\anaconda3\\lib\\site-packages (from transformers<5.0.0,>=4.38.0->sentence-transformers) (2023.10.3)\n",
      "Requirement already satisfied: safetensors>=0.4.1 in c:\\users\\anwit\\anaconda3\\lib\\site-packages (from transformers<5.0.0,>=4.38.0->sentence-transformers) (0.4.5)\n",
      "Requirement already satisfied: click>=8.0.0 in c:\\users\\anwit\\anaconda3\\lib\\site-packages (from typer>=0.9.0->chromadb) (8.1.7)\n",
      "Requirement already satisfied: shellingham>=1.3.0 in c:\\users\\anwit\\anaconda3\\lib\\site-packages (from typer>=0.9.0->chromadb) (1.5.4)\n",
      "Requirement already satisfied: rich>=10.11.0 in c:\\users\\anwit\\anaconda3\\lib\\site-packages (from typer>=0.9.0->chromadb) (13.3.5)\n",
      "Requirement already satisfied: httptools>=0.5.0 in c:\\users\\anwit\\anaconda3\\lib\\site-packages (from uvicorn[standard]>=0.18.3->chromadb) (0.6.1)\n",
      "Requirement already satisfied: python-dotenv>=0.13 in c:\\users\\anwit\\anaconda3\\lib\\site-packages (from uvicorn[standard]>=0.18.3->chromadb) (0.21.0)\n",
      "Requirement already satisfied: watchfiles>=0.13 in c:\\users\\anwit\\anaconda3\\lib\\site-packages (from uvicorn[standard]>=0.18.3->chromadb) (0.24.0)\n",
      "Requirement already satisfied: websockets>=10.4 in c:\\users\\anwit\\anaconda3\\lib\\site-packages (from uvicorn[standard]>=0.18.3->chromadb) (13.0.1)\n",
      "Requirement already satisfied: joblib>=1.1.1 in c:\\users\\anwit\\anaconda3\\lib\\site-packages (from scikit-learn->sentence-transformers) (1.2.0)\n",
      "Requirement already satisfied: threadpoolctl>=2.0.0 in c:\\users\\anwit\\anaconda3\\lib\\site-packages (from scikit-learn->sentence-transformers) (2.2.0)\n",
      "Requirement already satisfied: cachetools<6.0,>=2.0.0 in c:\\users\\anwit\\anaconda3\\lib\\site-packages (from google-auth>=1.0.1->kubernetes>=28.1.0->chromadb) (4.2.2)\n",
      "Requirement already satisfied: pyasn1-modules>=0.2.1 in c:\\users\\anwit\\anaconda3\\lib\\site-packages (from google-auth>=1.0.1->kubernetes>=28.1.0->chromadb) (0.2.8)\n",
      "Requirement already satisfied: rsa<5,>=3.1.4 in c:\\users\\anwit\\anaconda3\\lib\\site-packages (from google-auth>=1.0.1->kubernetes>=28.1.0->chromadb) (4.9)\n",
      "Requirement already satisfied: zipp>=0.5 in c:\\users\\anwit\\anaconda3\\lib\\site-packages (from importlib-metadata<=8.4.0,>=6.0->opentelemetry-api>=1.2.0->chromadb) (3.17.0)\n",
      "Requirement already satisfied: jsonpointer>=1.9 in c:\\users\\anwit\\anaconda3\\lib\\site-packages (from jsonpatch<2.0,>=1.33->langchain-core<0.4.0,>=0.3.0->langchain) (2.1)\n",
      "Requirement already satisfied: markdown-it-py<3.0.0,>=2.2.0 in c:\\users\\anwit\\anaconda3\\lib\\site-packages (from rich>=10.11.0->typer>=0.9.0->chromadb) (2.2.0)\n",
      "Requirement already satisfied: pygments<3.0.0,>=2.13.0 in c:\\users\\anwit\\anaconda3\\lib\\site-packages (from rich>=10.11.0->typer>=0.9.0->chromadb) (2.15.1)\n",
      "Requirement already satisfied: humanfriendly>=9.1 in c:\\users\\anwit\\anaconda3\\lib\\site-packages (from coloredlogs->onnxruntime>=1.14.1->chromadb) (10.0)\n",
      "Requirement already satisfied: MarkupSafe>=2.0 in c:\\users\\anwit\\anaconda3\\lib\\site-packages (from jinja2->torch>=1.11.0->sentence-transformers) (2.1.3)\n",
      "Requirement already satisfied: mpmath>=0.19 in c:\\users\\anwit\\anaconda3\\lib\\site-packages (from sympy->onnxruntime>=1.14.1->chromadb) (1.3.0)\n",
      "Requirement already satisfied: pyreadline3 in c:\\users\\anwit\\anaconda3\\lib\\site-packages (from humanfriendly>=9.1->coloredlogs->onnxruntime>=1.14.1->chromadb) (3.4.3)\n",
      "Requirement already satisfied: mdurl~=0.1 in c:\\users\\anwit\\anaconda3\\lib\\site-packages (from markdown-it-py<3.0.0,>=2.2.0->rich>=10.11.0->typer>=0.9.0->chromadb) (0.1.0)\n",
      "Requirement already satisfied: pyasn1<0.5.0,>=0.4.6 in c:\\users\\anwit\\anaconda3\\lib\\site-packages (from pyasn1-modules>=0.2.1->google-auth>=1.0.1->kubernetes>=28.1.0->chromadb) (0.4.8)\n"
     ]
    }
   ],
   "source": [
    "!pip install langchain langchain-groq chromadb pandas sentence-transformers pymupdf"
   ]
  },
  {
   "cell_type": "code",
   "execution_count": 2,
   "id": "d739447d-a698-423d-89d9-7711cadbd1e3",
   "metadata": {},
   "outputs": [
    {
     "name": "stderr",
     "output_type": "stream",
     "text": [
      "USER_AGENT environment variable not set, consider setting it to identify your requests.\n",
      "C:\\Users\\anwit\\anaconda3\\Lib\\site-packages\\sentence_transformers\\cross_encoder\\CrossEncoder.py:13: TqdmExperimentalWarning: Using `tqdm.autonotebook.tqdm` in notebook mode. Use `tqdm.tqdm` instead to force console mode (e.g. in jupyter console)\n",
      "  from tqdm.autonotebook import tqdm, trange\n"
     ]
    },
    {
     "name": "stdout",
     "output_type": "stream",
     "text": [
      "WARNING:tensorflow:From C:\\Users\\anwit\\anaconda3\\Lib\\site-packages\\tf_keras\\src\\losses.py:2976: The name tf.losses.sparse_softmax_cross_entropy is deprecated. Please use tf.compat.v1.losses.sparse_softmax_cross_entropy instead.\n",
      "\n"
     ]
    }
   ],
   "source": [
    "# Import required libraries\n",
    "from langchain_groq import ChatGroq\n",
    "from langchain_community.document_loaders import WebBaseLoader\n",
    "from langchain_core.prompts import PromptTemplate\n",
    "from langchain_core.output_parsers import JsonOutputParser\n",
    "from langchain_core.exceptions import OutputParserException\n",
    "from sentence_transformers import SentenceTransformer\n",
    "import pandas as pd\n",
    "import fitz  # PyMuPDF for PDF extraction\n",
    "import chromadb\n",
    "import uuid"
   ]
  },
  {
   "cell_type": "code",
   "execution_count": 3,
   "id": "4bbcb2a3-da7e-4501-bd16-50e85647038f",
   "metadata": {},
   "outputs": [],
   "source": [
    "# Step 1: Set up LLM and ChromaDB Client\n",
    "llm = ChatGroq(temperature=0, groq_api_key='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', model_name=\"llama-3.2-1b-preview\")\n",
    "client = chromadb.Client()"
   ]
  },
  {
   "cell_type": "code",
   "execution_count": 4,
   "id": "43918c6d-b526-4f6f-b7c9-0f4584db27e2",
   "metadata": {},
   "outputs": [],
   "source": [
    "# Step 2: Extract job description from the given URL\n",
    "def extract_job_description(url):\n",
    "    loader = WebBaseLoader([url])\n",
    "    data = loader.load().pop().page_content\n",
    "    return data"
   ]
  },
  {
   "cell_type": "code",
   "execution_count": 5,
   "id": "67f7d4ab-9f82-4d55-ac85-e4469d686910",
   "metadata": {},
   "outputs": [],
   "source": [
    "\n",
    "# Step 3: Extract text from PDF resumes\n",
    "def extract_text_from_pdf(pdf_path):\n",
    "    try:\n",
    "        pdf_document = fitz.open(pdf_path)\n",
    "        extracted_text = \"\"\n",
    "\n",
    "        for page_num in range(pdf_document.page_count):\n",
    "            page = pdf_document.load_page(page_num)\n",
    "            extracted_text += page.get_text()\n",
    "\n",
    "        pdf_document.close()\n",
    "        return extracted_text\n",
    "    except Exception as e:\n",
    "        print(f\"Error extracting from {pdf_path}: {e}\")\n",
    "        return \"\""
   ]
  },
  {
   "cell_type": "code",
   "execution_count": 6,
   "id": "05d6cd05-8063-4983-80bb-2b217ea5fde5",
   "metadata": {},
   "outputs": [],
   "source": [
    "# Step 4: Generate embeddings using Sentence Transformer\n",
    "def generate_embeddings(text, model):\n",
    "    return model.encode(text)"
   ]
  },
  {
   "cell_type": "code",
   "execution_count": 7,
   "id": "4d7e608a-842b-4b50-a4ec-0551bae81c96",
   "metadata": {},
   "outputs": [],
   "source": [
    "# Step 5: Store embeddings in ChromaDB\n",
    "def store_in_chromadb(collection, skills, resume_text, skills_embedding, resume_embedding, file_path):\n",
    "    unique_id = str(uuid.uuid4())\n",
    "\n",
    "    # Convert embeddings to lists (ChromaDB requires embeddings as lists)\n",
    "    skills_embedding = skills_embedding.tolist()\n",
    "    resume_embedding = resume_embedding.tolist()\n",
    "    \n",
    "    # Add skills and resume embeddings along with metadata and unique ID\n",
    "    collection.add(\n",
    "        ids=[unique_id],\n",
    "        documents=[resume_text],\n",
    "        embeddings=[resume_embedding],\n",
    "        metadatas=[{\n",
    "            \"skills\": skills,\n",
    "            \"file_path\": file_path\n",
    "        }]\n",
    "    )\n",
    "    print(f\"Stored resume from {file_path} with skills: {skills}\")"
   ]
  },
  {
   "cell_type": "code",
   "execution_count": 8,
   "id": "37115727-ba4c-41c0-9410-72f5e1205ed3",
   "metadata": {},
   "outputs": [],
   "source": [
    "# Step 6: Load CSV data containing resume paths and skills\n",
    "def load_csv(csv_path):\n",
    "    return pd.read_csv(csv_path)"
   ]
  },
  {
   "cell_type": "code",
   "execution_count": 9,
   "id": "a3956ed2-1bbf-4af5-a95e-38f894c5cde1",
   "metadata": {},
   "outputs": [
    {
     "name": "stderr",
     "output_type": "stream",
     "text": [
      "C:\\Users\\anwit\\anaconda3\\Lib\\site-packages\\transformers\\tokenization_utils_base.py:1617: FutureWarning: `clean_up_tokenization_spaces` was not set. It will be set to `True` by default. This behavior will be deprecated in transformers v4.45, and will be then set to `False` by default. For more details check this issue: https://github.com/huggingface/transformers/issues/31884\n",
      "  warnings.warn(\n"
     ]
    }
   ],
   "source": [
    "\n",
    "# Step 7: Initialize the Sentence Transformer model\n",
    "model = SentenceTransformer('all-MiniLM-L6-v2')"
   ]
  },
  {
   "cell_type": "code",
   "execution_count": 10,
   "id": "91f52a32-3851-43df-b392-c8869ca6c52b",
   "metadata": {},
   "outputs": [],
   "source": [
    "# Step 8: Create a ChromaDB collection for resume embeddings\n",
    "collection = client.create_collection(name=\"resume_embeddings_chromadb\")"
   ]
  },
  {
   "cell_type": "code",
   "execution_count": 11,
   "id": "5aac8c82-3b8b-47f9-bdac-6b4c2a4ab6bf",
   "metadata": {},
   "outputs": [],
   "source": [
    "# Step 9: Process each row in the CSV to store resume embeddings\n",
    "def process_resumes(csv_path):\n",
    "    data = load_csv(csv_path)\n",
    "    for index, row in data.iterrows():\n",
    "        skills = row['Techstack']\n",
    "        resume_path = row['Paths']\n",
    "\n",
    "        # Generate skills embedding\n",
    "        skills_embedding = generate_embeddings(skills, model)\n",
    "\n",
    "        # Extract text from resume\n",
    "        resume_text = extract_text_from_pdf(resume_path)\n",
    "\n",
    "        # Generate resume embedding\n",
    "        resume_embedding = generate_embeddings(resume_text, model)\n",
    "\n",
    "        # Store the embeddings and metadata in ChromaDB\n",
    "        store_in_chromadb(collection, skills, resume_text, skills_embedding, resume_embedding, resume_path)"
   ]
  },
  {
   "cell_type": "code",
   "execution_count": 12,
   "id": "c7d0eef7-bc21-4f4e-b821-35fa00f4c020",
   "metadata": {},
   "outputs": [],
   "source": [
    "# Step 10: Retrieve relevant resumes based on job description\n",
    "def find_relevant_resumes(job_description, top_k=5):\n",
    "    job_embedding = generate_embeddings(job_description, model)\n",
    "    results = collection.query(\n",
    "        query_embeddings=[job_embedding.tolist()],\n",
    "        n_results=top_k\n",
    "    )\n",
    "    return results['metadatas']"
   ]
  },
  {
   "cell_type": "code",
   "execution_count": 13,
   "id": "62a493d7-36f9-40d2-9daf-cf48bd33e0c2",
   "metadata": {},
   "outputs": [],
   "source": [
    "# Step 11: Generate a tailored cover letter based on job description and selected resume\n",
    "def generate_cover_letter(job_description, selected_resume_text):\n",
    "    prompt_cover_letter = PromptTemplate.from_template(\n",
    "        \"\"\"\n",
    "        ### JOB DESCRIPTION:\n",
    "        {job_description}\n",
    "\n",
    "        ### INSTRUCTION:\n",
    "        You are Anwitha Arbi, a Master’s student in Computer Science at Santa Clara University, graduating in June 2025. \n",
    "        You are passionate about AI, backend development, data engineering, and full-stack development. \n",
    "        Your experience spans AI and machine learning projects, backend architecture, cloud engineering, scalable data engineering solutions, distributed systems, and full-stack applications. \n",
    "        You have worked at leading organizations like Nvidia and LTIMindtree, where you contributed to projects in autonomous vehicles, cloud engineering, backend engineering, distributed systems, and LLM-based applications. \n",
    "        You are eager to apply these skills to meet the specific needs of the role described.\n",
    "\n",
    "        Below, you need to write a tailored cover letter to the employer regarding the job mentioned above.\n",
    "        In your cover letter, introduce yourself and explain why you are a strong candidate for the position. \n",
    "        Mention the following relevant work experiences and highlight 4-5 key projects or accomplishments from your resume:\n",
    "\n",
    "        {selected_resume_text}\n",
    "\n",
    "        Tailor your writing to the job description, emphasizing how your background and skill set in AI, backend development, data engineering, and full-stack development align with their needs.\n",
    "\n",
    "        ### COVER LETTER (NO PREAMBLE):\n",
    "        \"\"\"\n",
    "    )\n",
    "    chain_extract = prompt_cover_letter | llm\n",
    "    res = chain_extract.invoke(input={\"job_description\": job_description, \"selected_resume_text\": selected_resume_text})\n",
    "    return res.content"
   ]
  },
  {
   "cell_type": "code",
   "execution_count": 18,
   "id": "2a24817e-e5fc-450d-83fa-6f9e9b549736",
   "metadata": {},
   "outputs": [],
   "source": [
    "# Step 12: Main function to run the end-to-end process\n",
    "def main(job_url, csv_path):\n",
    "    # Step 12.1: Extract job description\n",
    "    job_description = extract_job_description(job_url)\n",
    "    print(\"Extracted job description successfully.\")\n",
    "    \n",
    "    # Step 12.2: Process resumes from CSV and store embeddings (run only once)\n",
    "    process_resumes(csv_path)\n",
    "    \n",
    "    # Step 12.3: Find relevant resumes based on job description\n",
    "    relevant_resumes = find_relevant_resumes(job_description)\n",
    "    print(f\"Found {len(relevant_resumes)} relevant resumes.\")\n",
    "    \n",
    "    # Step 12.4: Select the most relevant resume\n",
    "    selected_resume_text = relevant_resumes[0]  # Access the first resume dictionary\n",
    "    #selected_resume_text = selected_resume['resume_text']\n",
    "    \n",
    "    # Step 12.5: Generate cover letter\n",
    "    cover_letter = generate_cover_letter(job_description, selected_resume_text)\n",
    "    print(\"Generated cover letter:\")\n",
    "    print(cover_letter)\n"
   ]
  },
  {
   "cell_type": "code",
   "execution_count": 19,
   "id": "286e9cd7-2894-4ac8-9c2b-d3269c0818bd",
   "metadata": {},
   "outputs": [
    {
     "name": "stdout",
     "output_type": "stream",
     "text": [
      "Extracted job description successfully.\n",
      "Stored resume from C:/Users/anwit/Documents/Resumes/Default Resume/Anwitha_Arbi_Resume.pdf with skills: Python, AWS, React, MongoDB, NoSQL, Distributed Systems, Docker, Kubernetes, Langchain, AI, PostgreSQL, backend, REST API, Java, AI, Vector Database, Gen AI, LLM\n",
      "Stored resume from C:/Users/anwit/Documents/Resumes/React Resume/Anwitha_Arbi_Resume.pdf with skills: JavaScript, CSS, GraphQL, React.js, MongoDB, Node.js, REST API, Python, Flask, Docker, Kubernetes, AWS, Java\n",
      "Stored resume from C:/Users/anwit/Documents/Resumes/OpenCV Backend/Anwitha_Arbi_Resume.pdf with skills: Pandas, Numpy, OpenCV, AWS EC2, Langchain, Llama3, MySQL, ChromaDB, Streamlit, Python, Flask, Docker, Kubernetes, React.js, MongoDB, Node.js, REST, Java\n",
      "Stored resume from C:/Users/anwit/Documents/Resumes/Open CV Distributed Systems ML/Anwitha_Arbi_Resume.pdf with skills: OpenCV, Machine Learning, Spark, Scala, Distributed Systems, Python,  Data Engineering, data warehouse\n",
      "Found 1 relevant resumes.\n",
      "Generated cover letter:\n",
      "Dear Hiring Manager,\n",
      "\n",
      "I am thrilled to apply for the Data Engineer Co-op Winter Internship at Amazon, as advertised on Amazon.jobs. As a Master’s student in Computer Science at Santa Clara University, I am confident that my passion for AI, backend development, data engineering, and full-stack development make me an ideal candidate for this role.\n",
      "\n",
      "With over 5 years of experience in AI and machine learning projects, I have developed a strong foundation in backend architecture, cloud engineering, scalable data engineering solutions, and distributed systems. My experience at Nvidia and LTIMindtree has equipped me with expertise in AI and machine learning, backend engineering, and cloud engineering. I have worked on projects such as autonomous vehicles, cloud engineering, backend engineering, distributed systems, and LLM-based applications, where I have contributed to the development of scalable and efficient systems.\n",
      "\n",
      "One of my key projects was developing a real-time data pipeline for a large-scale e-commerce platform, where I designed and implemented a distributed system for collecting and processing log events from multiple sources. I also developed a data warehouse and SQL/NoSQL database systems to store and analyze the data. This project showcased my ability to design and implement complex data pipelines, and I am confident that my skills in this area will be valuable in this role.\n",
      "\n",
      "I am particularly drawn to this role because of the opportunity to work on cutting-edge data engineering projects that solve complex technical challenges. I am excited about the prospect of collaborating with stakeholders to understand how to best design and implement cutting-edge data solutions that provide answers to key business questions.\n",
      "\n",
      "In addition to my technical skills, I possess excellent communication and problem-solving skills, which I believe are essential for success in this role. I am confident that my ability to articulate complex technical concepts and collaborate with cross-functional teams will make me a valuable asset to the team.\n",
      "\n",
      "Thank you for considering my application. I am excited about the opportunity to discuss my qualifications further and learn more about the role. I have attached my resume, which provides more details about my experience and skills.\n",
      "\n",
      "Sincerely,\n",
      "Anwitha Arbi\n"
     ]
    }
   ],
   "source": [
    "# Example usage\n",
    "job_url = \"https://www.amazon.jobs/en/jobs/2781927/data-engineer-co-op-winter-internship-2025-us?cmpid=SPLICX0248M&ss=paid&utm_campaign=cxro&utm_content=job_posting&utm_medium=social_media&utm_source=linkedin.com\"\n",
    "csv_path = \"my_portfolio.csv\"  # Path to your CSV file containing resume paths and tech stacks\n",
    "main(job_url, csv_path)"
   ]
  },
  {
   "cell_type": "code",
   "execution_count": null,
   "id": "4a807a2b-2b47-4d3b-a12e-e54e4d9f85ba",
   "metadata": {},
   "outputs": [],
   "source": []
  }
 ],
 "metadata": {
  "kernelspec": {
   "display_name": "Python 3 (ipykernel)",
   "language": "python",
   "name": "python3"
  },
  "language_info": {
   "codemirror_mode": {
    "name": "ipython",
    "version": 3
   },
   "file_extension": ".py",
   "mimetype": "text/x-python",
   "name": "python",
   "nbconvert_exporter": "python",
   "pygments_lexer": "ipython3",
   "version": "3.11.7"
  }
 },
 "nbformat": 4,
 "nbformat_minor": 5
}
